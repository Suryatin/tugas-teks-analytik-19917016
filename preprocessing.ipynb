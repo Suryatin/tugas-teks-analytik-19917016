{
 "cells": [
  {
   "cell_type": "code",
   "execution_count": 248,
   "metadata": {
    "collapsed": true
   },
   "outputs": [],
   "source": [
    "import re, string, unicodedata\n",
    "import nltk"
   ]
  },
  {
   "cell_type": "code",
   "execution_count": 249,
   "metadata": {
    "scrolled": true
   },
   "outputs": [
    {
     "data": {
      "text/plain": [
       "\"Siang, bisa langsung ditanyakan ke Kebidanan FK UB. Terima kasih. https://t.co/5P0KDHlK9r\\nJadwal Kegiatan Dies Natalis ke-54 UB. Catat tanggalnya dan semarakkan acaranya. https://t.co/YZpBV1YFJK\\nComing soon : Rangkaian Acara Dies Natalis ke-54 Universitas Brawijaya https://t.co/5xgu0Gj828\\nRT @UB_IO: Beasiswa AMINEF Untuk Pengajar Bahasa Inggris di UB. Deadline aplikasi tanggal 15 April 2017 https://t.co/Kg5Ked96bf @UB_Official\\nRT @UB_IO: Beasiswa untuk Training dan Studi Lanjut ke Belgia. @UB_Official @UBTV_Brawijaya https://t.co/eEHYiNzbrf\\nRT @UB_IT: Periksa Soal: cek jawaban kamu.Untuk kembali ke soal,klik nomornya.Tombol SELESAI di klik jika semua soal sudah dijawab &amp; nilai…\\nRT @UB_IT: Tes kompetensi TI selama 90 menit/90 soal (30 Excel,30 P.Point,30 Word). Soal tiap orang berbeda krn bank soal lebih dari 3000.…\\nRT @UnileverIDN: Prosesi penutupan Bulan Kesehatan Gigi Nasional 2016 di FKG Univ Brawijaya #BKGN #Pepsodent @UB_Official @TanyaPepsodent @…\\nSelamat siang. Untuk jadwal penerimaan mahasiswa S2 bisa dilihat di https://t.co/1Uuv3lGe1O atau di… https://t.co/CYvxFREg3M\\nRT @kempanrb: bersama Korpri meneguhkan netralitas dan meningkatkan profesionalisme Aparatur Sipil Negara. Selamat HUT KORPRI ke 45!! https…\\nRT @UB_IO: Sosialisasi Studi S2 dan Beasiswa dari Swedia. hari ini, 16.00-17.00 di Lt.8 Rektorat UB, Free entry, kuota terbatas 150 kursi.…\\nRT @UB_IO: Kesempatan terbaru untuk studi S2 dan S3 di luar negeri dengan beasiswa. Informasi lebih lengkap https://t.co/u0RkZJTtsV @UB_Off…\\nRT @UB_IO: Don't forget, British Winter Education Fair, Today 13.00 at Gedung Kebudayaan Mahasiswa UB https://t.co/dsel5k3Ii9 @UB_Official\\nRT @UB_IO: Program Pertukaran Pelajar dari AMINEF untuk D1, D3 dan S1 https://t.co/rwV7N7sAX6 @UB_Official\\nRT @UB_IO: Fullbright Scholarship untuk S2 dan S3 telah dibuka, silahkan mengunjungi https://t.co/FbNchPlT9W @UB_Official\\nRT @UB_IO: British Winter Education Fair. Don't miss it. Scholarships info and many more @UB_Official @UBTV_Brawijaya https://t.co/iA0e6uHB…\\nRT @UB_IO: International Student Summit adalah agenda tahunan DIKTI untuk kompetisi mahasiswa asing dan lokal se-Indonesia @UB_Official\\nRT @UB_IO: Sosialisasi International Student Summit and Competition by UNAIR. Hari ini Kamis 13/10/16 pukul 12.00, di Lt8 Rektorat. Free. @…\\nRT @UB_IT: Pengumuman Jadwal Test Sertifikasi Kompetensi TI Gelombang 54\\nhttps://t.co/vhHiWN0ENq\\nRT @UB_IO: Nuffic Neso dan DAAD menawarkan beasiswa pendidikan untuk S1 hingga S3, summer course, dan pelatihan https://t.co/u0RkZJTtsV @UB…\\nRT @UB_IO: Salah satu partner UB, Ritsumeikan University membuka Short-term Exchange Program https://t.co/fc4FcPASoN @UB_Official\\nRektor : selamat dan berbahagialah menjadi bagian dari 12.000 mahasiswa baru UB. Selamat belajar. #RajaBrawijaya2016 #Pusaka54\\nPelepasan balon oleh Rektor dan Dirjen dari Kemenristekdikti https://t.co/kBReodtkIk\\nDengan dibunyikannya gong, secara resmi telah dimulainya pelaksanaan PKK-Maba 2016 #RajaBrawijaya2016 #Pusaka54 https://t.co/Xe7Hfj3TqO\\nRektor Universitas Brawijaya beserta jajaran dan undangan memasuki lapangan upacara #RajaBrawijaya2016 #Pusaka54\\nAyo Dukung! https://t.co/ZuCSWMojex\\n#INFO 4. Pintu gerbang dibuka pada Selasa, 30 Agustus 2016, pukul 09.00 WIB-15.30 WIB dan 17.00 WIB-selesai #RajaBrawijaya2016\\n#INFO 3. Pintu Gerbang keluar yang dibuka : Pintu Gerbang Pos Veteran dan Pintu Gerbang Pos BNI'46 #RajaBrawijaya2016\\n#INFO 2. Penutupan dilaksanakan pada hari : Selasa, 30 Agustus 2016, pukul 06.30-09.00 WIB dan 15.30-17.00 WIB #RajaBrawijaya2016\\n#INFO 1. Penutupan jalan masuk pada : Pintu Gerbang Pos Veteran, Pos BNI'46, Pos Jl, M. Haryono (Makam) dan Pos KPRI #RajaBrawijaya2016\\n#INFO Sehubungan dengan akan diselenggarakannya PKK-Maba #RajaBrawijaya2016 dengan ini diberitahukan bahwa :\\n\""
      ]
     },
     "execution_count": 249,
     "metadata": {},
     "output_type": "execute_result"
    }
   ],
   "source": [
    "file = open('tweet-data.txt', \"r\").read()\n",
    "file"
   ]
  },
  {
   "cell_type": "code",
   "execution_count": 246,
   "metadata": {
    "collapsed": true
   },
   "outputs": [],
   "source": [
    "\n",
    "def cleaning(str):\n",
    "    #remove non-ascii\n",
    "    str = unicodedata.normalize('NFKD', str).encode('ascii', 'ignore').decode('utf-8', 'ignore')\n",
    "    #remove URLs\n",
    "    str = re.sub(r'(?i)\\b((?:https?://|www\\d{0,3}[.]|[a-z0-9.\\-]+[.][a-z]{2,4}/)(?:[^\\s()<>]+|\\(([^\\s()<>]+|(\\([^\\s()<>]+\\)))*\\))+(?:\\(([^\\s()<>]+|(\\([^\\s()<>]+\\)))*\\)|[^\\s`!()\\[\\]{};:\\'\".,<>?«»“”‘’]))', '', str)\n",
    "    #remove punctuations\n",
    "    str = re.sub(r'[^\\w]|_',' ',str)\n",
    "    #remove digit from string\n",
    "    #str = re.sub(\"\\S*\\d\\S*\", \"\", str).strip()\n",
    "    #remove digit or numbers\n",
    "    #str = re.sub(r\"\\b\\d+\\b\", \" \", str)\n",
    "    #to lowercase\n",
    "    str = str.lower()\n",
    "    #Remove additional white spaces\n",
    "    str = re.sub('[\\s]+', ' ', str)\n",
    "    #remove RT\n",
    "    str = re.sub(r'[\\nRT]',' ',str)\n",
    "       \n",
    "    return str"
   ]
  },
  {
   "cell_type": "code",
   "execution_count": 247,
   "metadata": {
    "scrolled": false
   },
   "outputs": [
    {
     "name": "stdout",
     "output_type": "stream",
     "text": [
      "siang bisa langsung ditanyakan ke kebidanan fk ub terima kasih jadwal kegiatan dies natalis ke 54 ub catat tanggalnya dan semarakkan acaranya coming soon rangkaian acara dies natalis ke 54 universitas brawijaya rt ub io beasiswa aminef untuk pengajar bahasa inggris di ub deadline aplikasi tanggal 15 april 2017 ub official rt ub io beasiswa untuk training dan studi lanjut ke belgia ub official ubtv brawijaya rt ub it periksa soal cek jawaban kamu untuk kembali ke soal klik nomornya tombol selesai di klik jika semua soal sudah dijawab amp nilai rt ub it tes kompetensi ti selama 90 menit 90 soal 30 excel 30 p point 30 word soal tiap orang berbeda krn bank soal lebih dari 3000 rt unileveridn prosesi penutupan bulan kesehatan gigi nasional 2016 di fkg univ brawijaya bkgn pepsodent ub official tanyapepsodent selamat siang untuk jadwal penerimaan mahasiswa s2 bisa dilihat di atau di rt kempanrb bersama korpri meneguhkan netralitas dan meningkatkan profesionalisme aparatur sipil negara selamat hut korpri ke 45 https rt ub io sosialisasi studi s2 dan beasiswa dari swedia hari ini 16 00 17 00 di lt 8 rektorat ub free entry kuota terbatas 150 kursi rt ub io kesempatan terbaru untuk studi s2 dan s3 di luar negeri dengan beasiswa informasi lebih lengkap ub off rt ub io don t forget british winter education fair today 13 00 at gedung kebudayaan mahasiswa ub ub official rt ub io program pertukaran pelajar dari aminef untuk d1 d3 dan s1 ub official rt ub io fullbright scholarship untuk s2 dan s3 telah dibuka silahkan mengunjungi ub official rt ub io british winter education fair don t miss it scholarships info and many more ub official ubtv brawijaya rt ub io international student summit adalah agenda tahunan dikti untuk kompetisi mahasiswa asing dan lokal se indonesia ub official rt ub io sosialisasi international student summit and competition by unair hari ini kamis 13 10 16 pukul 12 00 di lt8 rektorat free rt ub it pengumuman jadwal test sertifikasi kompetensi ti gelombang 54 rt ub io nuffic neso dan daad menawarkan beasiswa pendidikan untuk s1 hingga s3 summer course dan pelatihan ub rt ub io salah satu partner ub ritsumeikan university membuka short term exchange program ub official rektor selamat dan berbahagialah menjadi bagian dari 12 000 mahasiswa baru ub selamat belajar rajabrawijaya2016 pusaka54 pelepasan balon oleh rektor dan dirjen dari kemenristekdikti dengan dibunyikannya gong secara resmi telah dimulainya pelaksanaan pkk maba 2016 rajabrawijaya2016 pusaka54 rektor universitas brawijaya beserta jajaran dan undangan memasuki lapangan upacara rajabrawijaya2016 pusaka54 ayo dukung info 4 pintu gerbang dibuka pada selasa 30 agustus 2016 pukul 09 00 wib 15 30 wib dan 17 00 wib selesai rajabrawijaya2016 info 3 pintu gerbang keluar yang dibuka pintu gerbang pos veteran dan pintu gerbang pos bni 46 rajabrawijaya2016 info 2 penutupan dilaksanakan pada hari selasa 30 agustus 2016 pukul 06 30 09 00 wib dan 15 30 17 00 wib rajabrawijaya2016 info 1 penutupan jalan masuk pada pintu gerbang pos veteran pos bni 46 pos jl m haryono makam dan pos kpri rajabrawijaya2016 info sehubungan dengan akan diselenggarakannya pkk maba rajabrawijaya2016 dengan ini diberitahukan bahwa \n"
     ]
    }
   ],
   "source": [
    "print (cleaning(file))"
   ]
  },
  {
   "cell_type": "code",
   "execution_count": null,
   "metadata": {
    "collapsed": true
   },
   "outputs": [],
   "source": []
  },
  {
   "cell_type": "code",
   "execution_count": null,
   "metadata": {
    "collapsed": true
   },
   "outputs": [],
   "source": []
  }
 ],
 "metadata": {
  "kernelspec": {
   "display_name": "Python 3",
   "language": "python",
   "name": "python3"
  },
  "language_info": {
   "codemirror_mode": {
    "name": "ipython",
    "version": 3
   },
   "file_extension": ".py",
   "mimetype": "text/x-python",
   "name": "python",
   "nbconvert_exporter": "python",
   "pygments_lexer": "ipython3",
   "version": "3.6.2"
  }
 },
 "nbformat": 4,
 "nbformat_minor": 2
}
